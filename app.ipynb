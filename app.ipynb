{
 "cells": [
  {
   "cell_type": "code",
   "execution_count": 11,
   "id": "4bafc3b6",
   "metadata": {},
   "outputs": [
    {
     "name": "stdout",
     "output_type": "stream",
     "text": [
      "Overwriting run.py\n"
     ]
    }
   ],
   "source": [
    "%%writefile run.py\n",
    "from flask import Flask\n",
    "\n",
    "app = Flask(__name__)\n",
    "\n",
    "@app.route('/')\n",
    "def hello():\n",
    "    return 'elaine bobobo'\n"
   ]
  },
  {
   "cell_type": "code",
   "execution_count": 19,
   "id": "b09c67be",
   "metadata": {},
   "outputs": [],
   "source": [
    "from flask import Flask,render_template\n",
    "\n",
    "app = Flask(__name__)\n",
    "\n",
    "\n",
    "name = 'Grey Li'\n",
    "movies = [\n",
    "    {'title': 'My Neighbor Totoro', 'year': '1988'},\n",
    "    {'title': 'Dead Poets Society', 'year': '1989'},\n",
    "    {'title': 'A Perfect World', 'year': '1993'},\n",
    "    {'title': 'Leon', 'year': '1994'},\n",
    "    {'title': 'Mahjong', 'year': '1996'},\n",
    "    {'title': 'Swallowtail Butterfly', 'year': '1996'},\n",
    "    {'title': 'King of Comedy', 'year': '1999'},\n",
    "    {'title': 'Devils on the Doorstep', 'year': '1999'},\n",
    "    {'title': 'WALL-E', 'year': '2008'},\n",
    "    {'title': 'The Pork of Music', 'year': '2012'},\n",
    "]\n",
    "\n",
    "@app.route('/')\n",
    "def index():\n",
    "    return render_template('index.html', name=name, movies=movies)\n"
   ]
  },
  {
   "cell_type": "code",
   "execution_count": null,
   "id": "c057ad6b",
   "metadata": {},
   "outputs": [
    {
     "name": "stdout",
     "output_type": "stream",
     "text": [
      "5556\n",
      "http://127.0.0.1:5556\n",
      " * Serving Flask app \"__main__\" (lazy loading)\n",
      " * Environment: production\n",
      "\u001b[31m   WARNING: This is a development server. Do not use it in a production deployment.\u001b[0m\n",
      "\u001b[2m   Use a production WSGI server instead.\u001b[0m\n",
      " * Debug mode: on\n"
     ]
    },
    {
     "name": "stderr",
     "output_type": "stream",
     "text": [
      " * Running on http://127.0.0.1:5556/ (Press CTRL+C to quit)\n",
      "127.0.0.1 - - [22/Oct/2023 12:08:24] \"GET / HTTP/1.1\" 200 -\n",
      "127.0.0.1 - - [22/Oct/2023 12:08:24] \"GET /favicon.ico HTTP/1.1\" 404 -\n"
     ]
    }
   ],
   "source": [
    "import subprocess as sp\n",
    "import random\n",
    "import requests\n",
    "\n",
    "\n",
    "\n",
    "if __name__ == '__main__':\n",
    "\n",
    "    port = 5000 + random.randint(0, 999)\n",
    "    print(port)\n",
    "    url = \"http://127.0.0.1:{0}\".format(port)\n",
    "    print(url)\n",
    "    #requests.get(url=url).content\n",
    "    #server.terminate()\n",
    "    app.run(use_reloader=False, debug=True, port=port)\n",
    "\n",
    "\n",
    "    "
   ]
  },
  {
   "cell_type": "code",
   "execution_count": null,
   "id": "baa3ec96",
   "metadata": {},
   "outputs": [],
   "source": []
  }
 ],
 "metadata": {
  "kernelspec": {
   "display_name": "Python 3 (ipykernel)",
   "language": "python",
   "name": "python3"
  },
  "language_info": {
   "codemirror_mode": {
    "name": "ipython",
    "version": 3
   },
   "file_extension": ".py",
   "mimetype": "text/x-python",
   "name": "python",
   "nbconvert_exporter": "python",
   "pygments_lexer": "ipython3",
   "version": "3.9.12"
  }
 },
 "nbformat": 4,
 "nbformat_minor": 5
}
