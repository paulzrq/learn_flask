{
 "cells": [
  {
   "cell_type": "code",
   "execution_count": 11,
   "id": "4bafc3b6",
   "metadata": {},
   "outputs": [
    {
     "name": "stdout",
     "output_type": "stream",
     "text": [
      "Overwriting run.py\n"
     ]
    }
   ],
   "source": [
    "%%writefile run.py\n",
    "from flask import Flask\n",
    "\n",
    "app = Flask(__name__)\n",
    "\n",
    "@app.route('/')\n",
    "def hello():\n",
    "    return 'elaine bobobo'\n"
   ]
  },
  {
   "cell_type": "code",
   "execution_count": 17,
   "id": "b09c67be",
   "metadata": {},
   "outputs": [],
   "source": [
    "from flask import Flask,render_template\n",
    "\n",
    "app = Flask(__name__)\n",
    "\n",
    "\n",
    "name = 'Grey Li'\n",
    "movies = [\n",
    "    {'title': 'My Neighbor Totoro', 'year': '1988'},\n",
    "    {'title': 'Dead Poets Society', 'year': '1989'},\n",
    "    {'title': 'A Perfect World', 'year': '1993'},\n",
    "    {'title': 'Leon', 'year': '1994'},\n",
    "    {'title': 'Mahjong', 'year': '1996'},\n",
    "    {'title': 'Swallowtail Butterfly', 'year': '1996'},\n",
    "    {'title': 'King of Comedy', 'year': '1999'},\n",
    "    {'title': 'Devils on the Doorstep', 'year': '1999'},\n",
    "    {'title': 'WALL-E', 'year': '2008'},\n",
    "    {'title': 'The Pork of Music', 'year': '2012'},\n",
    "]\n",
    "\n",
    "@app.route('/')\n",
    "def index():\n",
    "    return render_template('index.html', name=name, movies=movies)\n"
   ]
  },
  {
   "cell_type": "code",
   "execution_count": null,
   "id": "c057ad6b",
   "metadata": {},
   "outputs": [
    {
     "name": "stdout",
     "output_type": "stream",
     "text": [
      "5469\n",
      "http://127.0.0.1:5469\n",
      " * Serving Flask app \"__main__\" (lazy loading)\n",
      " * Environment: production\n",
      "\u001b[31m   WARNING: This is a development server. Do not use it in a production deployment.\u001b[0m\n",
      "\u001b[2m   Use a production WSGI server instead.\u001b[0m\n",
      " * Debug mode: on\n"
     ]
    },
    {
     "name": "stderr",
     "output_type": "stream",
     "text": [
      " * Running on http://127.0.0.1:5469/ (Press CTRL+C to quit)\n",
      "127.0.0.1 - - [22/Oct/2023 12:04:32] \"GET / HTTP/1.1\" 500 -\n",
      "Traceback (most recent call last):\n",
      "  File \"/Users/paul.zhang/opt/anaconda3/lib/python3.9/site-packages/flask/app.py\", line 2464, in __call__\n",
      "    return self.wsgi_app(environ, start_response)\n",
      "  File \"/Users/paul.zhang/opt/anaconda3/lib/python3.9/site-packages/flask/app.py\", line 2450, in wsgi_app\n",
      "    response = self.handle_exception(e)\n",
      "  File \"/Users/paul.zhang/opt/anaconda3/lib/python3.9/site-packages/flask/app.py\", line 1867, in handle_exception\n",
      "    reraise(exc_type, exc_value, tb)\n",
      "  File \"/Users/paul.zhang/opt/anaconda3/lib/python3.9/site-packages/flask/_compat.py\", line 39, in reraise\n",
      "    raise value\n",
      "  File \"/Users/paul.zhang/opt/anaconda3/lib/python3.9/site-packages/flask/app.py\", line 2447, in wsgi_app\n",
      "    response = self.full_dispatch_request()\n",
      "  File \"/Users/paul.zhang/opt/anaconda3/lib/python3.9/site-packages/flask/app.py\", line 1952, in full_dispatch_request\n",
      "    rv = self.handle_user_exception(e)\n",
      "  File \"/Users/paul.zhang/opt/anaconda3/lib/python3.9/site-packages/flask/app.py\", line 1821, in handle_user_exception\n",
      "    reraise(exc_type, exc_value, tb)\n",
      "  File \"/Users/paul.zhang/opt/anaconda3/lib/python3.9/site-packages/flask/_compat.py\", line 39, in reraise\n",
      "    raise value\n",
      "  File \"/Users/paul.zhang/opt/anaconda3/lib/python3.9/site-packages/flask/app.py\", line 1950, in full_dispatch_request\n",
      "    rv = self.dispatch_request()\n",
      "  File \"/Users/paul.zhang/opt/anaconda3/lib/python3.9/site-packages/flask/app.py\", line 1936, in dispatch_request\n",
      "    return self.view_functions[rule.endpoint](**req.view_args)\n",
      "  File \"/var/folders/rr/qd1wksyx4dn235nx3_px22th0000gn/T/ipykernel_9106/2569951725.py\", line 22, in index\n",
      "    \n",
      "  File \"/Users/paul.zhang/opt/anaconda3/lib/python3.9/site-packages/flask/templating.py\", line 138, in render_template\n",
      "    ctx.app.jinja_env.get_or_select_template(template_name_or_list),\n",
      "  File \"/Users/paul.zhang/opt/anaconda3/lib/python3.9/site-packages/jinja2/environment.py\", line 930, in get_or_select_template\n",
      "    return self.get_template(template_name_or_list, parent, globals)\n",
      "  File \"/Users/paul.zhang/opt/anaconda3/lib/python3.9/site-packages/jinja2/environment.py\", line 883, in get_template\n",
      "    return self._load_template(name, self.make_globals(globals))\n",
      "  File \"/Users/paul.zhang/opt/anaconda3/lib/python3.9/site-packages/jinja2/environment.py\", line 857, in _load_template\n",
      "    template = self.loader.load(self, name, globals)\n",
      "  File \"/Users/paul.zhang/opt/anaconda3/lib/python3.9/site-packages/jinja2/loaders.py\", line 127, in load\n",
      "    code = environment.compile(source, name, filename)\n",
      "  File \"/Users/paul.zhang/opt/anaconda3/lib/python3.9/site-packages/jinja2/environment.py\", line 638, in compile\n",
      "    self.handle_exception(source=source_hint)\n",
      "  File \"/Users/paul.zhang/opt/anaconda3/lib/python3.9/site-packages/jinja2/environment.py\", line 832, in handle_exception\n",
      "    reraise(*rewrite_traceback_stack(source=source))\n",
      "  File \"/Users/paul.zhang/opt/anaconda3/lib/python3.9/site-packages/jinja2/_compat.py\", line 28, in reraise\n",
      "    raise value.with_traceback(tb)\n",
      "  File \"<unknown>\", line 18, in template\n",
      "    \n",
      "jinja2.exceptions.TemplateSyntaxError: Missing end of comment tag\n",
      "127.0.0.1 - - [22/Oct/2023 12:04:32] \"GET /?__debugger__=yes&cmd=resource&f=style.css HTTP/1.1\" 200 -\n",
      "127.0.0.1 - - [22/Oct/2023 12:04:32] \"GET /?__debugger__=yes&cmd=resource&f=debugger.js HTTP/1.1\" 200 -\n",
      "127.0.0.1 - - [22/Oct/2023 12:04:32] \"GET /?__debugger__=yes&cmd=resource&f=console.png HTTP/1.1\" 200 -\n",
      "127.0.0.1 - - [22/Oct/2023 12:04:32] \"GET /?__debugger__=yes&cmd=resource&f=ubuntu.ttf HTTP/1.1\" 200 -\n",
      "127.0.0.1 - - [22/Oct/2023 12:04:32] \"GET /?__debugger__=yes&cmd=resource&f=console.png HTTP/1.1\" 200 -\n"
     ]
    }
   ],
   "source": [
    "import subprocess as sp\n",
    "import random\n",
    "import requests\n",
    "\n",
    "\n",
    "\n",
    "if __name__ == '__main__':\n",
    "\n",
    "    port = 5000 + random.randint(0, 999)\n",
    "    print(port)\n",
    "    url = \"http://127.0.0.1:{0}\".format(port)\n",
    "    print(url)\n",
    "    #requests.get(url=url).content\n",
    "    #server.terminate()\n",
    "    app.run(use_reloader=False, debug=True, port=port)\n",
    "\n",
    "\n",
    "    "
   ]
  },
  {
   "cell_type": "code",
   "execution_count": null,
   "id": "baa3ec96",
   "metadata": {},
   "outputs": [],
   "source": []
  }
 ],
 "metadata": {
  "kernelspec": {
   "display_name": "Python 3 (ipykernel)",
   "language": "python",
   "name": "python3"
  },
  "language_info": {
   "codemirror_mode": {
    "name": "ipython",
    "version": 3
   },
   "file_extension": ".py",
   "mimetype": "text/x-python",
   "name": "python",
   "nbconvert_exporter": "python",
   "pygments_lexer": "ipython3",
   "version": "3.9.12"
  }
 },
 "nbformat": 4,
 "nbformat_minor": 5
}
