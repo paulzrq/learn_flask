{
 "cells": [
  {
   "cell_type": "code",
   "execution_count": 1,
   "id": "4bafc3b6",
   "metadata": {},
   "outputs": [
    {
     "name": "stdout",
     "output_type": "stream",
     "text": [
      "Overwriting run.py\n"
     ]
    }
   ],
   "source": [
    "%%writefile run.py\n",
    "from flask import Flask\n",
    "\n",
    "app = Flask(__name__)\n",
    "\n",
    "@app.route('/')\n",
    "def hello():\n",
    "    return 'elaine bobobo'\n"
   ]
  },
  {
   "cell_type": "code",
   "execution_count": null,
   "id": "b09c67be",
   "metadata": {},
   "outputs": [],
   "source": [
    "from flask import Flask\n",
    "\n",
    "app = Flask(__name__)\n",
    "\n",
    "@app.route('/')\n",
    "def hello():\n",
    "    return 'elaine bobobo'\n"
   ]
  },
  {
   "cell_type": "code",
   "execution_count": null,
   "id": "c057ad6b",
   "metadata": {},
   "outputs": [
    {
     "name": "stdout",
     "output_type": "stream",
     "text": [
      "5007\n",
      "http://127.0.0.1:5007\n",
      " * Serving Flask app \"__main__\" (lazy loading)\n",
      " * Environment: production\n",
      "\u001b[31m   WARNING: This is a development server. Do not use it in a production deployment.\u001b[0m\n",
      "\u001b[2m   Use a production WSGI server instead.\u001b[0m\n",
      " * Debug mode: on\n"
     ]
    },
    {
     "name": "stderr",
     "output_type": "stream",
     "text": [
      " * Running on http://127.0.0.1:5007/ (Press CTRL+C to quit)\n"
     ]
    },
    {
     "name": "stdout",
     "output_type": "stream",
     "text": [
      " * Serving Flask app \"run.py\"\n",
      " * Environment: production\n",
      "   WARNING: This is a development server. Do not use it in a production deployment.\n",
      "   Use a production WSGI server instead.\n",
      " * Debug mode: off\n"
     ]
    },
    {
     "name": "stderr",
     "output_type": "stream",
     "text": [
      "Traceback (most recent call last):\n",
      "  File \"/Users/paul.zhang/opt/anaconda3/bin/flask\", line 10, in <module>\n",
      "    sys.exit(main())\n",
      "  File \"/Users/paul.zhang/opt/anaconda3/lib/python3.9/site-packages/flask/cli.py\", line 967, in main\n",
      "    cli.main(args=sys.argv[1:], prog_name=\"python -m flask\" if as_module else None)\n",
      "  File \"/Users/paul.zhang/opt/anaconda3/lib/python3.9/site-packages/flask/cli.py\", line 586, in main\n",
      "    return super(FlaskGroup, self).main(*args, **kwargs)\n",
      "  File \"/Users/paul.zhang/opt/anaconda3/lib/python3.9/site-packages/click/core.py\", line 1053, in main\n",
      "    rv = self.invoke(ctx)\n",
      "  File \"/Users/paul.zhang/opt/anaconda3/lib/python3.9/site-packages/click/core.py\", line 1659, in invoke\n",
      "    return _process_result(sub_ctx.command.invoke(sub_ctx))\n",
      "  File \"/Users/paul.zhang/opt/anaconda3/lib/python3.9/site-packages/click/core.py\", line 1395, in invoke\n",
      "    return ctx.invoke(self.callback, **ctx.params)\n",
      "  File \"/Users/paul.zhang/opt/anaconda3/lib/python3.9/site-packages/click/core.py\", line 754, in invoke\n",
      "    return __callback(*args, **kwargs)\n",
      "  File \"/Users/paul.zhang/opt/anaconda3/lib/python3.9/site-packages/click/decorators.py\", line 84, in new_func\n",
      "    return ctx.invoke(f, obj, *args, **kwargs)\n",
      "  File \"/Users/paul.zhang/opt/anaconda3/lib/python3.9/site-packages/click/core.py\", line 754, in invoke\n",
      "    return __callback(*args, **kwargs)\n",
      "  File \"/Users/paul.zhang/opt/anaconda3/lib/python3.9/site-packages/flask/cli.py\", line 852, in run_command\n",
      "    run_simple(\n",
      "  File \"/Users/paul.zhang/opt/anaconda3/lib/python3.9/site-packages/werkzeug/serving.py\", line 1017, in run_simple\n",
      "    inner()\n",
      "  File \"/Users/paul.zhang/opt/anaconda3/lib/python3.9/site-packages/werkzeug/serving.py\", line 957, in inner\n",
      "    srv = make_server(\n",
      "  File \"/Users/paul.zhang/opt/anaconda3/lib/python3.9/site-packages/werkzeug/serving.py\", line 789, in make_server\n",
      "    return ThreadedWSGIServer(\n",
      "  File \"/Users/paul.zhang/opt/anaconda3/lib/python3.9/site-packages/werkzeug/serving.py\", line 693, in __init__\n",
      "    super().__init__(server_address, handler)  # type: ignore\n",
      "  File \"/Users/paul.zhang/opt/anaconda3/lib/python3.9/socketserver.py\", line 452, in __init__\n",
      "    self.server_bind()\n",
      "  File \"/Users/paul.zhang/opt/anaconda3/lib/python3.9/http/server.py\", line 136, in server_bind\n",
      "    socketserver.TCPServer.server_bind(self)\n",
      "  File \"/Users/paul.zhang/opt/anaconda3/lib/python3.9/socketserver.py\", line 466, in server_bind\n",
      "    self.socket.bind(self.server_address)\n",
      "OSError: [Errno 48] Address already in use\n"
     ]
    }
   ],
   "source": [
    "import subprocess as sp\n",
    "import random\n",
    "\n",
    "\n",
    "\n",
    "if __name__ == '__main__':\n",
    "\n",
    "    port = 5000 + random.randint(0, 999)\n",
    "    print(port)\n",
    "    url = \"http://127.0.0.1:{0}\".format(port)\n",
    "    print(url)\n",
    "    app.run(use_reloader=False, debug=True, port=port)\n",
    "\n",
    "server = sp.Popen(\"FLASK_APP=run.py flask run\", shell=True)\n",
    "server\n",
    "\n"
   ]
  },
  {
   "cell_type": "code",
   "execution_count": null,
   "id": "baa3ec96",
   "metadata": {},
   "outputs": [],
   "source": []
  }
 ],
 "metadata": {
  "kernelspec": {
   "display_name": "Python 3 (ipykernel)",
   "language": "python",
   "name": "python3"
  },
  "language_info": {
   "codemirror_mode": {
    "name": "ipython",
    "version": 3
   },
   "file_extension": ".py",
   "mimetype": "text/x-python",
   "name": "python",
   "nbconvert_exporter": "python",
   "pygments_lexer": "ipython3",
   "version": "3.9.12"
  }
 },
 "nbformat": 4,
 "nbformat_minor": 5
}
